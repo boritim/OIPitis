{
 "cells": [
  {
   "cell_type": "markdown",
   "metadata": {},
   "source": [
    "# Загрузка и проверка данных"
   ]
  },
  {
   "cell_type": "code",
   "execution_count": 45,
   "metadata": {},
   "outputs": [
    {
     "data": {
      "text/plain": "         date                                               text\n0  2023-04-12  ТЕЛЕГА: удивительное рядом\\n \\nhttps://t.me/my...\n1  2023-04-14  ...у неё представления о том, как выглядят бипки?\n2  2023-04-14  - Может ли мyжчина забеpеменеть ? \\n- Пока неи...\n3  2023-04-14  📍 Пришла повестка? Армия не входит в планы? \\n...\n4  2023-04-14  Два шотландца встречаются в середине Индийског...",
      "text/html": "<div>\n<style scoped>\n    .dataframe tbody tr th:only-of-type {\n        vertical-align: middle;\n    }\n\n    .dataframe tbody tr th {\n        vertical-align: top;\n    }\n\n    .dataframe thead th {\n        text-align: right;\n    }\n</style>\n<table border=\"1\" class=\"dataframe\">\n  <thead>\n    <tr style=\"text-align: right;\">\n      <th></th>\n      <th>date</th>\n      <th>text</th>\n    </tr>\n  </thead>\n  <tbody>\n    <tr>\n      <th>0</th>\n      <td>2023-04-12</td>\n      <td>ТЕЛЕГА: удивительное рядом\\n \\nhttps://t.me/my...</td>\n    </tr>\n    <tr>\n      <th>1</th>\n      <td>2023-04-14</td>\n      <td>...у неё представления о том, как выглядят бипки?</td>\n    </tr>\n    <tr>\n      <th>2</th>\n      <td>2023-04-14</td>\n      <td>- Может ли мyжчина забеpеменеть ? \\n- Пока неи...</td>\n    </tr>\n    <tr>\n      <th>3</th>\n      <td>2023-04-14</td>\n      <td>📍 Пришла повестка? Армия не входит в планы? \\n...</td>\n    </tr>\n    <tr>\n      <th>4</th>\n      <td>2023-04-14</td>\n      <td>Два шотландца встречаются в середине Индийског...</td>\n    </tr>\n  </tbody>\n</table>\n</div>"
     },
     "execution_count": 45,
     "metadata": {},
     "output_type": "execute_result"
    }
   ],
   "source": [
    "import pandas as pd\n",
    "\n",
    "jumoreski_posts = pd.read_csv('jumoreski.csv')\n",
    "jumoreski_posts.head()"
   ]
  },
  {
   "cell_type": "code",
   "execution_count": 46,
   "metadata": {},
   "outputs": [
    {
     "data": {
      "text/plain": "         date                                               text\n0  2023-04-10  12-летие ИТИС!🎉 \\nНаша самая приятная традиция...\n1  2023-04-05  Мы приготовили для вас МЕГА-новости 😎 \\n \\nСлы...\n2  2023-03-25                                     Live: ИТИС КФУ\n3  2023-03-25                                     Live: ИТИС КФУ\n4  2023-03-15  Студенты ИТИС стали стипендиатами Правительств...",
      "text/html": "<div>\n<style scoped>\n    .dataframe tbody tr th:only-of-type {\n        vertical-align: middle;\n    }\n\n    .dataframe tbody tr th {\n        vertical-align: top;\n    }\n\n    .dataframe thead th {\n        text-align: right;\n    }\n</style>\n<table border=\"1\" class=\"dataframe\">\n  <thead>\n    <tr style=\"text-align: right;\">\n      <th></th>\n      <th>date</th>\n      <th>text</th>\n    </tr>\n  </thead>\n  <tbody>\n    <tr>\n      <th>0</th>\n      <td>2023-04-10</td>\n      <td>12-летие ИТИС!🎉 \\nНаша самая приятная традиция...</td>\n    </tr>\n    <tr>\n      <th>1</th>\n      <td>2023-04-05</td>\n      <td>Мы приготовили для вас МЕГА-новости 😎 \\n \\nСлы...</td>\n    </tr>\n    <tr>\n      <th>2</th>\n      <td>2023-03-25</td>\n      <td>Live: ИТИС КФУ</td>\n    </tr>\n    <tr>\n      <th>3</th>\n      <td>2023-03-25</td>\n      <td>Live: ИТИС КФУ</td>\n    </tr>\n    <tr>\n      <th>4</th>\n      <td>2023-03-15</td>\n      <td>Студенты ИТИС стали стипендиатами Правительств...</td>\n    </tr>\n  </tbody>\n</table>\n</div>"
     },
     "execution_count": 46,
     "metadata": {},
     "output_type": "execute_result"
    }
   ],
   "source": [
    "itis_posts = pd.read_csv('itis_kfu.csv')\n",
    "itis_posts.head()\n",
    "#"
   ]
  },
  {
   "cell_type": "markdown",
   "metadata": {},
   "source": [
    "## Объединение данных"
   ]
  },
  {
   "cell_type": "code",
   "execution_count": 47,
   "metadata": {},
   "outputs": [
    {
     "data": {
      "text/plain": "         date                                               text     target\n0  2023-04-12  ТЕЛЕГА: удивительное рядом\\n \\nhttps://t.me/my...  jumoreski\n1  2023-04-14  ...у неё представления о том, как выглядят бипки?  jumoreski\n2  2023-04-14  - Может ли мyжчина забеpеменеть ? \\n- Пока неи...  jumoreski\n3  2023-04-14  📍 Пришла повестка? Армия не входит в планы? \\n...  jumoreski\n4  2023-04-14  Два шотландца встречаются в середине Индийског...  jumoreski",
      "text/html": "<div>\n<style scoped>\n    .dataframe tbody tr th:only-of-type {\n        vertical-align: middle;\n    }\n\n    .dataframe tbody tr th {\n        vertical-align: top;\n    }\n\n    .dataframe thead th {\n        text-align: right;\n    }\n</style>\n<table border=\"1\" class=\"dataframe\">\n  <thead>\n    <tr style=\"text-align: right;\">\n      <th></th>\n      <th>date</th>\n      <th>text</th>\n      <th>target</th>\n    </tr>\n  </thead>\n  <tbody>\n    <tr>\n      <th>0</th>\n      <td>2023-04-12</td>\n      <td>ТЕЛЕГА: удивительное рядом\\n \\nhttps://t.me/my...</td>\n      <td>jumoreski</td>\n    </tr>\n    <tr>\n      <th>1</th>\n      <td>2023-04-14</td>\n      <td>...у неё представления о том, как выглядят бипки?</td>\n      <td>jumoreski</td>\n    </tr>\n    <tr>\n      <th>2</th>\n      <td>2023-04-14</td>\n      <td>- Может ли мyжчина забеpеменеть ? \\n- Пока неи...</td>\n      <td>jumoreski</td>\n    </tr>\n    <tr>\n      <th>3</th>\n      <td>2023-04-14</td>\n      <td>📍 Пришла повестка? Армия не входит в планы? \\n...</td>\n      <td>jumoreski</td>\n    </tr>\n    <tr>\n      <th>4</th>\n      <td>2023-04-14</td>\n      <td>Два шотландца встречаются в середине Индийског...</td>\n      <td>jumoreski</td>\n    </tr>\n  </tbody>\n</table>\n</div>"
     },
     "execution_count": 47,
     "metadata": {},
     "output_type": "execute_result"
    }
   ],
   "source": [
    "jumoreski_posts['target'] = 'jumoreski'\n",
    "itis_posts['target'] = 'itis'\n",
    "posts = pd.concat([jumoreski_posts, itis_posts])\n",
    "posts = posts.reset_index(drop=True)\n",
    "posts.head()"
   ]
  },
  {
   "cell_type": "markdown",
   "metadata": {},
   "source": [
    "# Предобработка данных"
   ]
  },
  {
   "cell_type": "markdown",
   "metadata": {},
   "source": [
    "## Удаление emoji"
   ]
  },
  {
   "cell_type": "code",
   "execution_count": 48,
   "metadata": {},
   "outputs": [
    {
     "data": {
      "text/plain": "         date                                               text     target\n0  2023-04-12  ТЕЛЕГА: удивительное рядом\\n \\nhttps://t.me/my...  jumoreski\n1  2023-04-14  ...у неё представления о том, как выглядят бипки?  jumoreski\n2  2023-04-14  - Может ли мyжчина забеpеменеть ? \\n- Пока неи...  jumoreski\n3  2023-04-14   Пришла повестка? Армия не входит в планы? \\n ...  jumoreski\n4  2023-04-14  Два шотландца встречаются в середине Индийског...  jumoreski",
      "text/html": "<div>\n<style scoped>\n    .dataframe tbody tr th:only-of-type {\n        vertical-align: middle;\n    }\n\n    .dataframe tbody tr th {\n        vertical-align: top;\n    }\n\n    .dataframe thead th {\n        text-align: right;\n    }\n</style>\n<table border=\"1\" class=\"dataframe\">\n  <thead>\n    <tr style=\"text-align: right;\">\n      <th></th>\n      <th>date</th>\n      <th>text</th>\n      <th>target</th>\n    </tr>\n  </thead>\n  <tbody>\n    <tr>\n      <th>0</th>\n      <td>2023-04-12</td>\n      <td>ТЕЛЕГА: удивительное рядом\\n \\nhttps://t.me/my...</td>\n      <td>jumoreski</td>\n    </tr>\n    <tr>\n      <th>1</th>\n      <td>2023-04-14</td>\n      <td>...у неё представления о том, как выглядят бипки?</td>\n      <td>jumoreski</td>\n    </tr>\n    <tr>\n      <th>2</th>\n      <td>2023-04-14</td>\n      <td>- Может ли мyжчина забеpеменеть ? \\n- Пока неи...</td>\n      <td>jumoreski</td>\n    </tr>\n    <tr>\n      <th>3</th>\n      <td>2023-04-14</td>\n      <td>Пришла повестка? Армия не входит в планы? \\n ...</td>\n      <td>jumoreski</td>\n    </tr>\n    <tr>\n      <th>4</th>\n      <td>2023-04-14</td>\n      <td>Два шотландца встречаются в середине Индийског...</td>\n      <td>jumoreski</td>\n    </tr>\n  </tbody>\n</table>\n</div>"
     },
     "execution_count": 48,
     "metadata": {},
     "output_type": "execute_result"
    }
   ],
   "source": [
    "import re\n",
    "\n",
    "regrex_pattern = re.compile(\"[\"\n",
    "        u\"\\U0001F600-\\U0001F64F\"  # emoticons\n",
    "        u\"\\U0001F300-\\U0001F5FF\"  # symbols & pictographs\n",
    "        u\"\\U0001F680-\\U0001F6FF\"  # transport & map symbols\n",
    "        u\"\\U0001F1E0-\\U0001F1FF\"  # flags (iOS)\n",
    "        u\"\\U00002500-\\U00002BEF\"  # chinese char\n",
    "        u\"\\U00002702-\\U000027B0\"\n",
    "        u\"\\U00002702-\\U000027B0\"\n",
    "        u\"\\U000024C2-\\U0001F251\"\n",
    "        u\"\\U0001f926-\\U0001f937\"\n",
    "        u\"\\U00010000-\\U0010ffff\"\n",
    "        u\"\\u2640-\\u2642\"\n",
    "        u\"\\u2600-\\u2B55\"\n",
    "        u\"\\u200d\"\n",
    "        u\"\\u23cf\"\n",
    "        u\"\\u23e9\"\n",
    "        u\"\\u231a\"\n",
    "        u\"\\ufe0f\"  # dingbats\n",
    "        u\"\\u3030\"\n",
    "                      \"]+\", re.UNICODE)\n",
    "\n",
    "posts['text'] = posts['text'].apply(lambda x: regrex_pattern.sub(r'', x))\n",
    "posts.head()"
   ]
  },
  {
   "cell_type": "markdown",
   "metadata": {},
   "source": [
    "## Удаление вспомогательных символов"
   ]
  },
  {
   "cell_type": "code",
   "execution_count": 49,
   "metadata": {},
   "outputs": [
    {
     "data": {
      "text/plain": "         date                                               text     target\n0  2023-04-12  ТЕЛЕГА: удивительное рядом  https://t.me/myfav...  jumoreski\n1  2023-04-14  ...у неё представления о том, как выглядят бипки?  jumoreski\n2  2023-04-14  - Может ли мyжчина забеpеменеть ? - Пока неизв...  jumoreski\n3  2023-04-14   Пришла повестка? Армия не входит в планы?  18...  jumoreski\n4  2023-04-14  Два шотландца встречаются в середине Индийског...  jumoreski",
      "text/html": "<div>\n<style scoped>\n    .dataframe tbody tr th:only-of-type {\n        vertical-align: middle;\n    }\n\n    .dataframe tbody tr th {\n        vertical-align: top;\n    }\n\n    .dataframe thead th {\n        text-align: right;\n    }\n</style>\n<table border=\"1\" class=\"dataframe\">\n  <thead>\n    <tr style=\"text-align: right;\">\n      <th></th>\n      <th>date</th>\n      <th>text</th>\n      <th>target</th>\n    </tr>\n  </thead>\n  <tbody>\n    <tr>\n      <th>0</th>\n      <td>2023-04-12</td>\n      <td>ТЕЛЕГА: удивительное рядом  https://t.me/myfav...</td>\n      <td>jumoreski</td>\n    </tr>\n    <tr>\n      <th>1</th>\n      <td>2023-04-14</td>\n      <td>...у неё представления о том, как выглядят бипки?</td>\n      <td>jumoreski</td>\n    </tr>\n    <tr>\n      <th>2</th>\n      <td>2023-04-14</td>\n      <td>- Может ли мyжчина забеpеменеть ? - Пока неизв...</td>\n      <td>jumoreski</td>\n    </tr>\n    <tr>\n      <th>3</th>\n      <td>2023-04-14</td>\n      <td>Пришла повестка? Армия не входит в планы?  18...</td>\n      <td>jumoreski</td>\n    </tr>\n    <tr>\n      <th>4</th>\n      <td>2023-04-14</td>\n      <td>Два шотландца встречаются в середине Индийског...</td>\n      <td>jumoreski</td>\n    </tr>\n  </tbody>\n</table>\n</div>"
     },
     "execution_count": 49,
     "metadata": {},
     "output_type": "execute_result"
    }
   ],
   "source": [
    "posts['text'] = posts['text'].apply(lambda x: x.replace('\\n', ' '))\n",
    "posts['text'] = posts['text'].apply(lambda x: x.replace('\\t', ' '))\n",
    "posts['text'] = posts['text'].apply(lambda x: x.replace('\\r', ' '))\n",
    "posts['text'] = posts['text'].apply(lambda x: x.replace('  ', ' '))\n",
    "posts.head()"
   ]
  },
  {
   "cell_type": "markdown",
   "metadata": {},
   "source": [
    "## Удаление пунктуации"
   ]
  },
  {
   "cell_type": "code",
   "execution_count": 50,
   "metadata": {},
   "outputs": [
    {
     "data": {
      "text/plain": "         date                                               text     target\n0  2023-04-12  ТЕЛЕГА удивительное рядом httpstmemyfavoriteju...  jumoreski\n1  2023-04-14       у неё представления о том как выглядят бипки  jumoreski\n2  2023-04-14   Может ли мyжчина забеpеменеть  Пока неизвестн...  jumoreski\n3  2023-04-14   Пришла повестка Армия не входит в планы 18 ап...  jumoreski\n4  2023-04-14  Два шотландца встречаются в середине Индийског...  jumoreski",
      "text/html": "<div>\n<style scoped>\n    .dataframe tbody tr th:only-of-type {\n        vertical-align: middle;\n    }\n\n    .dataframe tbody tr th {\n        vertical-align: top;\n    }\n\n    .dataframe thead th {\n        text-align: right;\n    }\n</style>\n<table border=\"1\" class=\"dataframe\">\n  <thead>\n    <tr style=\"text-align: right;\">\n      <th></th>\n      <th>date</th>\n      <th>text</th>\n      <th>target</th>\n    </tr>\n  </thead>\n  <tbody>\n    <tr>\n      <th>0</th>\n      <td>2023-04-12</td>\n      <td>ТЕЛЕГА удивительное рядом httpstmemyfavoriteju...</td>\n      <td>jumoreski</td>\n    </tr>\n    <tr>\n      <th>1</th>\n      <td>2023-04-14</td>\n      <td>у неё представления о том как выглядят бипки</td>\n      <td>jumoreski</td>\n    </tr>\n    <tr>\n      <th>2</th>\n      <td>2023-04-14</td>\n      <td>Может ли мyжчина забеpеменеть  Пока неизвестн...</td>\n      <td>jumoreski</td>\n    </tr>\n    <tr>\n      <th>3</th>\n      <td>2023-04-14</td>\n      <td>Пришла повестка Армия не входит в планы 18 ап...</td>\n      <td>jumoreski</td>\n    </tr>\n    <tr>\n      <th>4</th>\n      <td>2023-04-14</td>\n      <td>Два шотландца встречаются в середине Индийског...</td>\n      <td>jumoreski</td>\n    </tr>\n  </tbody>\n</table>\n</div>"
     },
     "execution_count": 50,
     "metadata": {},
     "output_type": "execute_result"
    }
   ],
   "source": [
    "import string\n",
    "\n",
    "posts['text'] = posts['text'].apply(lambda x: x.translate(str.maketrans('', '', string.punctuation)))\n",
    "posts['text'] = posts['text'].apply(lambda x: x.translate(str.maketrans('', '', '«»-—')))\n",
    "posts['text'] = posts['text'].apply(lambda x: x.replace('  ', ' '))\n",
    "posts.head()"
   ]
  },
  {
   "cell_type": "markdown",
   "metadata": {},
   "source": [
    "## Приведение к нижнему регистру"
   ]
  },
  {
   "cell_type": "code",
   "execution_count": 51,
   "metadata": {},
   "outputs": [
    {
     "data": {
      "text/plain": "         date                                               text     target\n0  2023-04-12  телега удивительное рядом httpstmemyfavoriteju...  jumoreski\n1  2023-04-14       у неё представления о том как выглядят бипки  jumoreski\n2  2023-04-14   может ли мyжчина забеpеменеть  пока неизвестн...  jumoreski\n3  2023-04-14   пришла повестка армия не входит в планы 18 ап...  jumoreski\n4  2023-04-14  два шотландца встречаются в середине индийског...  jumoreski",
      "text/html": "<div>\n<style scoped>\n    .dataframe tbody tr th:only-of-type {\n        vertical-align: middle;\n    }\n\n    .dataframe tbody tr th {\n        vertical-align: top;\n    }\n\n    .dataframe thead th {\n        text-align: right;\n    }\n</style>\n<table border=\"1\" class=\"dataframe\">\n  <thead>\n    <tr style=\"text-align: right;\">\n      <th></th>\n      <th>date</th>\n      <th>text</th>\n      <th>target</th>\n    </tr>\n  </thead>\n  <tbody>\n    <tr>\n      <th>0</th>\n      <td>2023-04-12</td>\n      <td>телега удивительное рядом httpstmemyfavoriteju...</td>\n      <td>jumoreski</td>\n    </tr>\n    <tr>\n      <th>1</th>\n      <td>2023-04-14</td>\n      <td>у неё представления о том как выглядят бипки</td>\n      <td>jumoreski</td>\n    </tr>\n    <tr>\n      <th>2</th>\n      <td>2023-04-14</td>\n      <td>может ли мyжчина забеpеменеть  пока неизвестн...</td>\n      <td>jumoreski</td>\n    </tr>\n    <tr>\n      <th>3</th>\n      <td>2023-04-14</td>\n      <td>пришла повестка армия не входит в планы 18 ап...</td>\n      <td>jumoreski</td>\n    </tr>\n    <tr>\n      <th>4</th>\n      <td>2023-04-14</td>\n      <td>два шотландца встречаются в середине индийског...</td>\n      <td>jumoreski</td>\n    </tr>\n  </tbody>\n</table>\n</div>"
     },
     "execution_count": 51,
     "metadata": {},
     "output_type": "execute_result"
    }
   ],
   "source": [
    "posts['text'] = posts['text'].apply(lambda x: x.lower())\n",
    "posts.head()"
   ]
  },
  {
   "cell_type": "markdown",
   "metadata": {},
   "source": [
    "## Токенизация"
   ]
  },
  {
   "cell_type": "code",
   "execution_count": 52,
   "metadata": {},
   "outputs": [
    {
     "name": "stderr",
     "output_type": "stream",
     "text": [
      "[nltk_data] Downloading package punkt to\n",
      "[nltk_data]     /Users/timofejborisov/nltk_data...\n",
      "[nltk_data]   Package punkt is already up-to-date!\n"
     ]
    }
   ],
   "source": [
    "import nltk\n",
    "from nltk.tokenize import word_tokenize\n",
    "nltk.download('punkt')\n",
    "\n",
    "corpus = {}\n",
    "for i in range(len(posts)):\n",
    "    corpus[i] = {\n",
    "        'text': word_tokenize(posts['text'][i]),\n",
    "        'target': posts['target'][i]\n",
    "    }"
   ]
  },
  {
   "cell_type": "markdown",
   "metadata": {},
   "source": [
    "## Лемматизация"
   ]
  },
  {
   "cell_type": "code",
   "execution_count": 53,
   "metadata": {},
   "outputs": [],
   "source": [
    "import pymorphy2\n",
    "morph = pymorphy2.MorphAnalyzer()\n",
    "\n",
    "def lemmatize(text):\n",
    "    return [morph.parse(word)[0].normal_form for word in text]\n",
    "\n",
    "for i, post in corpus.items():\n",
    "    corpus[i]['text'] = lemmatize(post['text'])"
   ]
  },
  {
   "cell_type": "markdown",
   "metadata": {},
   "source": [
    "## Удаление стоп-слов"
   ]
  },
  {
   "cell_type": "markdown",
   "metadata": {},
   "source": [
    "Найдем стоп-слова по частоте встречаемости"
   ]
  },
  {
   "cell_type": "code",
   "execution_count": 54,
   "metadata": {},
   "outputs": [
    {
     "data": {
      "text/plain": "(236820, 22134)"
     },
     "execution_count": 54,
     "metadata": {},
     "output_type": "execute_result"
    }
   ],
   "source": [
    "word_count = {}\n",
    "total_words = 0\n",
    "for i, post in corpus.items():\n",
    "    for word in post['text']:\n",
    "        word_count[word] = word_count.get(word, 0) + 1\n",
    "        total_words += 1\n",
    "\n",
    "total_words, len(word_count)"
   ]
  },
  {
   "cell_type": "code",
   "execution_count": 55,
   "metadata": {},
   "outputs": [
    {
     "data": {
      "text/plain": "(['бипка',\n  'мyжчин',\n  'забеpеменеть',\n  'добросовестно',\n  'покладай',\n  'призывануть',\n  'диагностировать',\n  'непризывной',\n  'чётко',\n  'наметить',\n  'httpsvkcccmfaz5',\n  'шотландец',\n  'акваланг',\n  'смокинг',\n  'дункан',\n  'видеться',\n  'поживать',\n  'дражайший',\n  'люси',\n  'прихварывать'],\n 13961)"
     },
     "execution_count": 55,
     "metadata": {},
     "output_type": "execute_result"
    }
   ],
   "source": [
    "min_threshold = 0.00001\n",
    "max_threshold = 0.99999\n",
    "\n",
    "stop_words = []\n",
    "\n",
    "for word, count in word_count.items():\n",
    "    freq = count / total_words\n",
    "    if freq < min_threshold or freq > max_threshold:\n",
    "        stop_words.append(word)\n",
    "\n",
    "stop_words[:20], len(stop_words)"
   ]
  },
  {
   "cell_type": "code",
   "execution_count": 56,
   "metadata": {},
   "outputs": [],
   "source": [
    "def remove_stop_words(text):\n",
    "    return [word for word in text if word not in stop_words]\n",
    "\n",
    "for i, post in corpus.items():\n",
    "    corpus[i]['text'] = remove_stop_words(post['text'])"
   ]
  },
  {
   "cell_type": "code",
   "execution_count": 57,
   "metadata": {},
   "outputs": [
    {
     "data": {
      "text/plain": "{'text': ['телега',\n  'удивительный',\n  'рядом',\n  'httpstmemyfavoritejumoreski',\n  'httpstmemyfavoritejumoreski',\n  'httpstmemyfavoritejumoreski'],\n 'target': 'jumoreski'}"
     },
     "execution_count": 57,
     "metadata": {},
     "output_type": "execute_result"
    }
   ],
   "source": [
    "corpus[0]"
   ]
  },
  {
   "cell_type": "markdown",
   "metadata": {},
   "source": [
    "## Сохранение предобработанных данных"
   ]
  },
  {
   "cell_type": "code",
   "execution_count": 58,
   "metadata": {},
   "outputs": [
    {
     "data": {
      "text/plain": "                                                text     target\n0  [телега, удивительный, рядом, httpstmemyfavori...  jumoreski\n1    [у, она, представление, о, тот, как, выглядеть]  jumoreski\n2  [мочь, ли, пока, неизвестно, но, всё, сообщест...  jumoreski\n3  [прийти, повестка, армия, не, входить, в, план...  jumoreski\n4  [два, встречаться, в, середина, индийский, оке...  jumoreski",
      "text/html": "<div>\n<style scoped>\n    .dataframe tbody tr th:only-of-type {\n        vertical-align: middle;\n    }\n\n    .dataframe tbody tr th {\n        vertical-align: top;\n    }\n\n    .dataframe thead th {\n        text-align: right;\n    }\n</style>\n<table border=\"1\" class=\"dataframe\">\n  <thead>\n    <tr style=\"text-align: right;\">\n      <th></th>\n      <th>text</th>\n      <th>target</th>\n    </tr>\n  </thead>\n  <tbody>\n    <tr>\n      <th>0</th>\n      <td>[телега, удивительный, рядом, httpstmemyfavori...</td>\n      <td>jumoreski</td>\n    </tr>\n    <tr>\n      <th>1</th>\n      <td>[у, она, представление, о, тот, как, выглядеть]</td>\n      <td>jumoreski</td>\n    </tr>\n    <tr>\n      <th>2</th>\n      <td>[мочь, ли, пока, неизвестно, но, всё, сообщест...</td>\n      <td>jumoreski</td>\n    </tr>\n    <tr>\n      <th>3</th>\n      <td>[прийти, повестка, армия, не, входить, в, план...</td>\n      <td>jumoreski</td>\n    </tr>\n    <tr>\n      <th>4</th>\n      <td>[два, встречаться, в, середина, индийский, оке...</td>\n      <td>jumoreski</td>\n    </tr>\n  </tbody>\n</table>\n</div>"
     },
     "execution_count": 58,
     "metadata": {},
     "output_type": "execute_result"
    }
   ],
   "source": [
    "corpus_df = pd.DataFrame(corpus).T\n",
    "corpus_df.head()"
   ]
  },
  {
   "cell_type": "code",
   "execution_count": 59,
   "metadata": {},
   "outputs": [],
   "source": [
    "corpus_df.to_csv('corpus.csv', index=False)"
   ]
  },
  {
   "cell_type": "markdown",
   "metadata": {},
   "source": [
    "# Наивный байесовский классификатор"
   ]
  },
  {
   "cell_type": "markdown",
   "metadata": {},
   "source": [
    "## Разделение данных на обучающую и тестовую выборки"
   ]
  },
  {
   "cell_type": "code",
   "execution_count": 60,
   "metadata": {},
   "outputs": [
    {
     "data": {
      "text/plain": "((2864,), (716,), (2864,), (716,))"
     },
     "execution_count": 60,
     "metadata": {},
     "output_type": "execute_result"
    }
   ],
   "source": [
    "import numpy as np\n",
    "from sklearn.model_selection import train_test_split\n",
    "\n",
    "X = corpus_df['text']\n",
    "y = corpus_df['target']\n",
    "\n",
    "X_train, X_test, y_train, y_test = train_test_split(X, y, test_size=0.2, random_state=42)\n",
    "X_train.shape, X_test.shape, y_train.shape, y_test.shape"
   ]
  },
  {
   "cell_type": "code",
   "execution_count": 61,
   "metadata": {},
   "outputs": [
    {
     "data": {
      "text/plain": "array([[list(['приходить', 'както', 'девушка', 'к', 'конфуций', 'и', 'говорить', 'конфуций', 'почему', 'это', 'нормально', 'а', 'плохо', 'конфуций', 'от', 'чаемый', 'и', 'крикнуть', 'да', 'ёб', 'твой', 'мать', 'опять', 'забыть', 'дверь', 'на', 'закрыть', 'идти', 'отсюда']),\n        'jumoreski'],\n       [list(['кто', 'носить', 'фирма', 'и', 'рожа', 'фирма', 'тот', 'твой', 'мамаша', 'дать', 'ну', 'а', 'ты', 'никто', 'не', 'дать']),\n        'jumoreski'],\n       [list(['если', 'бы', 'я', 'платить', 'за', 'каждый', 'существующий', 'гендер', '100', 'доллар', 'то', 'я', 'бы', 'не', 'хватить', 'на']),\n        'jumoreski'],\n       [list(['идти', '100', 'негр', 'по', 'пустыня', 'встретить', 'джина', '99', 'говорить', 'себя', 'свой', 'близкий', 'и', 'тот', 'кто', 'это', 'читать', 'и', 'они', 'семья', 'от', 'а', 'от', 'смех', 'весь', 'снова']),\n        'jumoreski'],\n       [list(['если', 'вы', 'думать', 'что', 'студент', 'итис', 'только', 'учиться', 'вот', 'вы', 'новый', 'статья', 'от', 'club153470393itis', 'media']),\n        'itis']], dtype=object)"
     },
     "execution_count": 61,
     "metadata": {},
     "output_type": "execute_result"
    }
   ],
   "source": [
    "X_train = np.array(X_train)\n",
    "X_test = np.array(X_test)\n",
    "y_train = np.array(y_train)\n",
    "y_test = np.array(y_test)\n",
    "\n",
    "concat_train = np.concatenate((X_train.reshape(-1, 1), y_train.reshape(-1, 1)), axis=1)\n",
    "concat_test = np.concatenate((X_test.reshape(-1, 1), y_test.reshape(-1, 1)), axis=1)\n",
    "concat_train[:5]"
   ]
  },
  {
   "cell_type": "markdown",
   "metadata": {},
   "source": [
    "## Обучение классификатора"
   ]
  },
  {
   "cell_type": "code",
   "execution_count": 62,
   "metadata": {},
   "outputs": [
    {
     "name": "stdout",
     "output_type": "stream",
     "text": [
      "jumoreski  :  jumoreski\n",
      "jumoreski  :  jumoreski\n",
      "jumoreski  :  jumoreski\n",
      "jumoreski  :  itis\n",
      "jumoreski  :  jumoreski\n",
      "jumoreski  :  jumoreski\n",
      "jumoreski  :  jumoreski\n",
      "itis  :  itis\n",
      "jumoreski  :  jumoreski\n",
      "jumoreski  :  jumoreski\n",
      "jumoreski  :  jumoreski\n"
     ]
    }
   ],
   "source": [
    "import numpy as np\n",
    "import joblib\n",
    "\n",
    "class Naive_bayes():\n",
    "\n",
    "    def __init__(self):\n",
    "        self.classes_cnt = {}  # словарь, хранящий число элементов класса и общее число признаков в классе\n",
    "        self.freq = {}         # словарь, хранящий число вхождений признака в класс\n",
    "        self.unique = set()    # множество уникальных признаков в данных\n",
    "        self.fitted = False    # флаг, определяющий, обучен ли классификатор\n",
    "\n",
    "    def fit(self, dataset):\n",
    "        for features, label in dataset:\n",
    "            if label not in self.classes_cnt: #Проверяем, есть ли метка label в словаре classes_cnt\n",
    "                self.classes_cnt[label] = [0, 0]\n",
    "            self.classes_cnt[label][0] += 1 #Отслеживание количества элементов с этой меткой.\n",
    "            for feature in features:\n",
    "                if (feature, label) not in self.freq:\n",
    "                    self.freq[(feature, label)] = 0\n",
    "                self.freq[(feature, label)] += 1\n",
    "                self.classes_cnt[label][1] += 1 #Подсчет количества уникальных признаков с этой меткой.\n",
    "                self.unique.add(feature)\n",
    "        self.fitted = True\n",
    "\n",
    "    def predict(self, features, alpha=1):\n",
    "        if not self.fitted: return None # Если модель не обучена, возвращается значение None\n",
    "        dataset_cnt = 0\n",
    "        for label in self.classes_cnt:\n",
    "            dataset_cnt += self.classes_cnt[label][1] # Вычисляется общее количество признаков во всех классах\n",
    "\n",
    "        max_prob = -1\n",
    "        max_label = None\n",
    "        for cls in self.classes_cnt:\n",
    "            cls_prob = self.classes_cnt[cls][0] / dataset_cnt # Вычисляется априорная вероятность класса\n",
    "            for feature in features:\n",
    "                if (feature, cls) in self.freq: # Если признак уже встречался в классе, то вычисляется его вероятность по формуле Наивного Байеса\n",
    "                    cls_prob += (self.freq[(feature, cls)] + alpha) / (self.classes_cnt[cls][1] + alpha * len(self.unique))\n",
    "                else: # Если признак не встречался в классе, то используется сглаживание с параметром alpha\n",
    "                    cls_prob += alpha / (self.classes_cnt[cls][1] + alpha * len(self.unique))\n",
    "            if cls_prob > max_prob: # Выбирается класс с наибольшей вероятностью\n",
    "                max_prob = cls_prob\n",
    "                max_label = cls\n",
    "        return max_label # Возвращается метка класса с наибольшей вероятностью\n",
    "\n",
    "    def export_model(self, path='dicts.pkl'):\n",
    "        model = self.classes_cnt, self.freq, self.unique\n",
    "        joblib.dump(model, 'dicts.pkl')\n",
    "        return model\n",
    "\n",
    "    def import_model(self, path='dicts.pkl'):\n",
    "        self.classes_cnt, self.freq, self.unique = joblib.load(path)\n",
    "        self.fitted = True\n",
    "\n",
    "nb = Naive_bayes()\n",
    "nb.fit(concat_train)\n",
    "nb.export_model('dicts.pkl')\n",
    "nb.import_model('dicts.pkl')\n",
    "\n",
    "for k, item in enumerate(concat_test):\n",
    "    print(nb.predict(item[0], alpha=1), ' : ', item[1])\n",
    "    if k == 10: break"
   ]
  },
  {
   "cell_type": "markdown",
   "metadata": {},
   "source": [
    "## Оценка качества классификатора"
   ]
  },
  {
   "cell_type": "code",
   "execution_count": 63,
   "metadata": {},
   "outputs": [],
   "source": [
    "y_pred = []\n",
    "for item in concat_test:\n",
    "    y_pred.append(nb.predict(item[0], alpha=1))\n",
    "\n",
    "y_pred = np.array(y_pred)"
   ]
  },
  {
   "cell_type": "code",
   "execution_count": 64,
   "metadata": {},
   "outputs": [],
   "source": [
    "# map labels to numbers\n",
    "y_test = np.array([1 if label == 'jumoreski' else 0 for label in y_test])\n",
    "y_pred = np.array([1 if label == 'jumoreski' else 0 for label in y_pred])"
   ]
  },
  {
   "cell_type": "code",
   "execution_count": 65,
   "metadata": {},
   "outputs": [
    {
     "name": "stdout",
     "output_type": "stream",
     "text": [
      "Accuracy score: 0.9385474860335196\n",
      "Precision score: 0.970074812967581\n",
      "Recall score: 0.9239904988123515\n",
      "F1-Score score: 0.9464720194647203\n"
     ]
    }
   ],
   "source": [
    "from sklearn.metrics import accuracy_score, precision_score, recall_score, f1_score\n",
    "\n",
    "print('Accuracy score:', accuracy_score(y_test, y_pred))\n",
    "print('Precision score:', precision_score(y_test, y_pred))\n",
    "print('Recall score:', recall_score(y_test, y_pred))\n",
    "print('F1-Score score:', f1_score(y_test, y_pred))"
   ]
  },
  {
   "cell_type": "code",
   "execution_count": 66,
   "metadata": {},
   "outputs": [
    {
     "data": {
      "text/plain": "<Figure size 1000x1000 with 2 Axes>",
      "image/png": "[encoded data removed]"
     },
     "metadata": {},
     "output_type": "display_data"
    }
   ],
   "source": [
    "from matplotlib import pyplot as plt\n",
    "import seaborn as sns\n",
    "from sklearn.metrics import confusion_matrix\n",
    "\n",
    "confusion_matrix(y_test, y_pred)\n",
    "plt.figure(figsize=(10, 10))\n",
    "sns.heatmap(confusion_matrix(y_test, y_pred), annot=True, fmt='d', cmap='Blues')\n",
    "plt.title('Confusion matrix', fontsize=16)\n",
    "plt.ylabel('True label', fontsize=14)\n",
    "plt.xlabel('Predicted label', fontsize=14)\n",
    "\n",
    "plt.xticks([0.5, 1.5], ['itis', 'jumoreski'], fontsize=14)\n",
    "plt.yticks([0.5, 1.5], ['itis', 'jumoreski'], fontsize=14)\n",
    "plt.show()"
   ]
  },
  {
   "cell_type": "code",
   "execution_count": 66,
   "metadata": {},
   "outputs": [],
   "source": []
  }
 ],
 "metadata": {
  "kernelspec": {
   "display_name": "Python 3 (ipykernel)",
   "language": "python",
   "name": "python3"
  },
  "language_info": {
   "codemirror_mode": {
    "name": "ipython",
    "version": 3
   },
   "file_extension": ".py",
   "mimetype": "text/x-python",
   "name": "python",
   "nbconvert_exporter": "python",
   "pygments_lexer": "ipython3",
   "version": "3.9.13"
  }
 },
 "nbformat": 4,
 "nbformat_minor": 1
}